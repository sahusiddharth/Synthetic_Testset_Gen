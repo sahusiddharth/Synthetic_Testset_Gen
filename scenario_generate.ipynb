{
 "cells": [
  {
   "cell_type": "code",
   "execution_count": 1,
   "metadata": {},
   "outputs": [
    {
     "data": {
      "text/plain": [
       "KnowledgeGraph(nodes: 25, relationships: 92)"
      ]
     },
     "execution_count": 1,
     "metadata": {},
     "output_type": "execute_result"
    }
   ],
   "source": [
    "from ragas.testset.graph import KnowledgeGraph\n",
    "\n",
    "kg = KnowledgeGraph.load(\"transformed_kg.json\")\n",
    "kg"
   ]
  },
  {
   "cell_type": "code",
   "execution_count": 2,
   "metadata": {},
   "outputs": [],
   "source": [
    "from ragas.llms import LangchainLLMWrapper\n",
    "from ragas.embeddings import LangchainEmbeddingsWrapper\n",
    "from langchain_openai import ChatOpenAI\n",
    "from langchain_openai import OpenAIEmbeddings\n",
    "\n",
    "generator_llm = LangchainLLMWrapper(ChatOpenAI(model=\"gpt-4o-mini\"))\n",
    "generator_embedding = LangchainEmbeddingsWrapper(OpenAIEmbeddings())"
   ]
  },
  {
   "cell_type": "code",
   "execution_count": 3,
   "metadata": {},
   "outputs": [],
   "source": [
    "from ragas.testset.synthesizers import UserScenarioTestsetGenerator\n",
    "\n",
    "user_testset_generator = UserScenarioTestsetGenerator(llm=generator_llm)"
   ]
  },
  {
   "cell_type": "code",
   "execution_count": 4,
   "metadata": {},
   "outputs": [
    {
     "data": {
      "text/plain": [
       "[Persona(name='First Time Flier', role_description='Is flying for the first time and may feel anxious. Needs clear guidance on flight procedures, safety protocols, and what to expect throughout the journey.'),\n",
       " Persona(name='Frequent Flier', role_description='Travels regularly and values efficiency and comfort. Interested in loyalty programs, express services, and a seamless travel experience.'),\n",
       " Persona(name='Angry Business Class Flier', role_description='Demands top-tier service and is easily irritated by any delays or issues. Expects immediate resolutions and is quick to express frustration if standards are not met.')]"
      ]
     },
     "execution_count": 4,
     "metadata": {},
     "output_type": "execute_result"
    }
   ],
   "source": [
    "from ragas.testset.persona import Persona\n",
    "\n",
    "persona_first_time_flier = Persona(\n",
    "    name=\"First Time Flier\",\n",
    "    role_description=\"Is flying for the first time and may feel anxious. Needs clear guidance on flight procedures, safety protocols, and what to expect throughout the journey.\",\n",
    ")\n",
    "\n",
    "persona_frequent_flier = Persona(\n",
    "    name=\"Frequent Flier\",\n",
    "    role_description=\"Travels regularly and values efficiency and comfort. Interested in loyalty programs, express services, and a seamless travel experience.\",\n",
    ")\n",
    "\n",
    "persona_angry_business_flier = Persona(\n",
    "    name=\"Angry Business Class Flier\",\n",
    "    role_description=\"Demands top-tier service and is easily irritated by any delays or issues. Expects immediate resolutions and is quick to express frustration if standards are not met.\",\n",
    ")\n",
    "\n",
    "personas = [persona_first_time_flier, persona_frequent_flier, persona_angry_business_flier]\n",
    "personas"
   ]
  },
  {
   "cell_type": "code",
   "execution_count": 14,
   "metadata": {},
   "outputs": [],
   "source": [
    "kg.nodes[2].properties.get(\"page_content\")\n",
    "\n",
    "flight_cancellation_node = kg.nodes[2]\n",
    "flight_delay_node = kg.nodes[3]"
   ]
  },
  {
   "cell_type": "code",
   "execution_count": 16,
   "metadata": {},
   "outputs": [
    {
     "data": {
      "text/plain": [
       "'Managing Reservations\\n\\nManaging your reservation is essential for making changes, upgrading seats, or canceling a booking when necessary. Below is an extreme verbose and detailed breakdown of how to view, modify, and cancel a booking.\\n\\nViewing and Modifying Bookings\\n\\n1: Accessing Your Booking Online\\n\\nTo view or modify your reservation online, follow these steps:\\n\\nVisit the Ragas Airlines Website\\n\\nOpen your web browser and go to www.ragasairlines.com.\\n\\nClick on the \"Manage My Booking\" section (found in the top navigation menu).\\n\\nEnter Your Booking Details\\n\\nYou will be prompted to enter:\\n\\nBooking Reference Number (This can be found in your confirmation email).\\n\\nLast Name (As it appears on the ticket).\\n\\nClick “Retrieve Booking”.\\n\\nView Your Flight Details\\n\\nOnce logged in, you will see your flight itinerary, including:\\n\\nDeparture & arrival details.\\n\\nSeat assignments.\\n\\nBaggage allowance.\\n\\nSpecial requests (if any).\\n\\n2: Modifying Your Booking\\n\\nIf you need to change your flight, follow these steps:\\n\\nCheck Fare Rules & Availability\\n\\nReview your ticket’s fare conditions to see if modifications are allowed.\\n\\nSome tickets may be non-changeable or require a fee.\\n\\nSelect Modification Option\\n\\nClick \"Modify Flight\" to change:\\n\\nDate or time of travel.\\n\\nDestination (if permitted by fare rules).\\n\\nSeat selection (if upgrading to premium seating).\\n\\nPay Any Additional Fees\\n\\nIf the new flight has a higher fare, you must pay the fare difference.\\n\\nSome changes may include a modification fee.\\n\\nConfirm the New Booking\\n\\nOnce changes are made, click “Confirm”.\\n\\nA new confirmation email will be sent with the updated itinerary.\\n\\n3: Canceling Your Booking\\n\\nTo cancel a booking:\\n\\nGo to \"Manage My Booking\"\\n\\nEnter your booking reference number and last name.\\n\\nClick “Cancel Flight”\\n\\nIf cancellation is allowed, you will see the refund eligibility details.\\n\\nReview Refund or Credit Options\\n\\nIf your ticket is refundable, you will receive a refund to your original payment method.\\n\\nIf non-refundable, you may receive:\\n\\nA travel credit for future use (minus cancellation fees).\\n\\nNo refund at all (for some promotional fares).\\n\\nSubmit Cancellation Request\\n\\nClick \"Confirm Cancellation\" and note the refund tracking number.\\n\\nReceive Refund (If Applicable)\\n\\nRefunds typically take:\\n\\n7 business days for credit/debit card payments.\\n\\n20 business days for bank transfers or other methods.\\n\\nPotential Issues and Resolutions for Managing Reservations\\n\\n1. Unable to Access Booking\\n\\nIf you cannot retrieve your booking online:\\n\\nStep 1: Double-Check Your Details - Ensure your booking reference number and last name match exactly as per the ticket.\\n\\nStep 2: Clear Browser Cache & Cookies - If the page is not loading, clear your browser cache or try using a different browser.\\n\\nStep 3: Contact Customer Service - If you still can’t access your reservation, call customer support and provide: - Your booking reference number. - The email or phone number used during booking.\\n\\n2. Modification Restrictions\\n\\nSome tickets have restrictions on changes. If you cannot modify your flight:\\n\\nStep 1: Check Fare Rules - Log in to \"Manage My Booking\" and check the ticket conditions.\\n\\nStep 2: Explore Alternative Options - If your ticket is non-changeable, you may need to purchase a new ticket.\\n\\nStep 3: Contact Customer Service - Explain your situation to a representative. They might offer: - A waiver for changes (in case of medical emergencies or exceptional circumstances). - The ability to use travel credit instead of changing your flight.'"
      ]
     },
     "execution_count": 16,
     "metadata": {},
     "output_type": "execute_result"
    }
   ],
   "source": [
    "flight_delay_node.get_property(\"page_content\")"
   ]
  },
  {
   "cell_type": "code",
   "execution_count": 6,
   "metadata": {},
   "outputs": [
    {
     "data": {
      "text/plain": [
       "ragas.testset.graph.Node"
      ]
     },
     "execution_count": 6,
     "metadata": {},
     "output_type": "execute_result"
    }
   ],
   "source": [
    "type(flight_cancellation_node)"
   ]
  },
  {
   "cell_type": "code",
   "execution_count": 7,
   "metadata": {},
   "outputs": [],
   "source": [
    "from ragas.testset.synthesizers.single_hop.specific import (\n",
    "    SingleHopSpecificQuerySynthesizer,\n",
    "    SingleHopScenario,\n",
    ")\n",
    "from ragas.testset.synthesizers.base import QueryLength, QueryStyle\n",
    "\n",
    "nodes = [flight_cancellation_node]\n",
    "\n",
    "test = SingleHopScenario(\n",
    "        nodes=nodes, \n",
    "        term=\"\", \n",
    "        persona=persona_angry_business_flier,\n",
    "        style=QueryStyle.PERFECT_GRAMMAR,\n",
    "        length=QueryLength.MEDIUM,\n",
    "    )\n",
    "\n",
    "scenarios = [test]"
   ]
  },
  {
   "cell_type": "code",
   "execution_count": 8,
   "metadata": {},
   "outputs": [
    {
     "data": {
      "text/plain": [
       "True"
      ]
     },
     "execution_count": 8,
     "metadata": {},
     "output_type": "execute_result"
    }
   ],
   "source": [
    "isinstance(scenarios[0], SingleHopScenario)"
   ]
  },
  {
   "cell_type": "code",
   "execution_count": 9,
   "metadata": {},
   "outputs": [],
   "source": [
    "testset = await user_testset_generator.generate_from_user_scenarios(scenarios=[test])"
   ]
  },
  {
   "cell_type": "code",
   "execution_count": 12,
   "metadata": {},
   "outputs": [
    {
     "name": "stdout",
     "output_type": "stream",
     "text": [
      "Testset uploaded! View at https://app.ragas.io/dashboard/alignment/testset/751cb0d0-64bb-4658-854d-d98a9f30d232\n"
     ]
    },
    {
     "data": {
      "text/plain": [
       "'https://app.ragas.io/dashboard/alignment/testset/751cb0d0-64bb-4658-854d-d98a9f30d232'"
      ]
     },
     "execution_count": 12,
     "metadata": {},
     "output_type": "execute_result"
    }
   ],
   "source": [
    "testset.upload()"
   ]
  },
  {
   "cell_type": "code",
   "execution_count": 13,
   "metadata": {},
   "outputs": [
    {
     "name": "stdout",
     "output_type": "stream",
     "text": [
      "Testset uploaded! View at https://app.ragas.io/dashboard/alignment/testset/ba16f17a-92c7-4e6b-b1a3-5cfbddaef692\n"
     ]
    },
    {
     "data": {
      "text/plain": [
       "'https://app.ragas.io/dashboard/alignment/testset/ba16f17a-92c7-4e6b-b1a3-5cfbddaef692'"
      ]
     },
     "execution_count": 13,
     "metadata": {},
     "output_type": "execute_result"
    }
   ],
   "source": [
    "test2 = SingleHopScenario(\n",
    "        nodes=nodes, \n",
    "        term=\"\", \n",
    "        persona=persona_first_time_flier,\n",
    "        style=QueryStyle.PERFECT_GRAMMAR,\n",
    "        length=QueryLength.MEDIUM,\n",
    "    )\n",
    "\n",
    "testset2 = await user_testset_generator.generate_from_user_scenarios(scenarios=[test2])\n",
    "testset2.upload()"
   ]
  },
  {
   "cell_type": "code",
   "execution_count": null,
   "metadata": {},
   "outputs": [],
   "source": []
  }
 ],
 "metadata": {
  "kernelspec": {
   "display_name": "ragas",
   "language": "python",
   "name": "python3"
  },
  "language_info": {
   "codemirror_mode": {
    "name": "ipython",
    "version": 3
   },
   "file_extension": ".py",
   "mimetype": "text/x-python",
   "name": "python",
   "nbconvert_exporter": "python",
   "pygments_lexer": "ipython3",
   "version": "3.11.9"
  }
 },
 "nbformat": 4,
 "nbformat_minor": 2
}

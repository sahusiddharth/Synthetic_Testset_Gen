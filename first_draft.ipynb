{
 "cells": [
  {
   "cell_type": "markdown",
   "metadata": {},
   "source": [
    "### Generating a Synthetic Test Set for RAG-Based Question Answering with Ragas  \n",
    "\n",
    "In this tutorial, we will explore the **test set generation module in Ragas** to create a **synthetic test set** for a **Retrieval-Augmented Generation (RAG)-based question-answering bot**. Our hypothetical use case is a **Ragas Airline assistant**, designed to answer customer queries on a range of topics, including:  \n",
    "\n",
    "- Flight booking  \n",
    "- Flight changes and cancellations  \n",
    "- Baggage policies  \n",
    "- Viewing reservations  \n",
    "- Flight delays  \n",
    "- In-flight services  \n",
    "- Special assistance  \n",
    "\n",
    "To ensure our synthetic dataset is as **realistic and diverse** as possible, we will create **various customer personas**, each representing different traveler and behaviors. This approach helps build a **comprehensive and representative test set**, allowing us to evaluate the robustness of our RAG model effectively.  \n",
    "\n",
    "Let's dive in!"
   ]
  },
  {
   "cell_type": "code",
   "execution_count": null,
   "metadata": {},
   "outputs": [],
   "source": []
  },
  {
   "cell_type": "markdown",
   "metadata": {},
   "source": [
    "### Understanding Data Structure for Effective Test Set Generation in Ragas  \n",
    "\n",
    "Before generating a synthetic test set in Ragas, it's essential to have a clear understanding of your data's structure. This knowledge enables you to determine the necessary transformations for your knowledge graph, allowing better control over the test set generation process.\n",
    "\n",
    "Ragas operates by converting your data into a knowledge graph, enriching it through various transformations, and then generating diverse and representative questions based on this structured information. By leveraging these transformations, you can ensure that your test set aligns with the real-world scenarios your Retrieval-Augmented Generation (RAG) system will encounter.\n",
    "\n",
    "For a deeper dive into the mechanics of synthetic test set generation in Ragas, refer to the [documentation](https://docs.ragas.io/en/stable/concepts/test_data_generation/rag/)."
   ]
  },
  {
   "cell_type": "markdown",
   "metadata": {},
   "source": [
    "### Understanding Data Structure for Effective Test Set Generation in Ragas  \n",
    "\n",
    "Before generating a **synthetic test set** in Ragas, it is crucial to have a **clear understanding of your data’s structure**. In this example, the data is highly **structured in a Markdown file**, where **procedures and steps are numbered** and **arranged into well-defined sections and subsections**.  \n",
    "\n",
    "Understanding this structure helps in determining the **necessary transformations** for **test set generation**. Since Ragas works by **converting data into a knowledge graph, enriching it through transformations, and generating diverse and representative questions**, having structured data makes it easier to **control the test set's direction and relevance**.  \n",
    "\n",
    "For a deeper dive into the mechanics of synthetic test set generation in Ragas, refer to the [documentation](https://docs.ragas.io/en/stable/concepts/test_data_generation/rag/)  "
   ]
  },
  {
   "cell_type": "code",
   "execution_count": 1,
   "metadata": {},
   "outputs": [
    {
     "name": "stderr",
     "output_type": "stream",
     "text": [
      "libmagic is unavailable but assists in filetype detection. Please consider installing libmagic for better results.\n",
      "libmagic is unavailable but assists in filetype detection. Please consider installing libmagic for better results.\n",
      "libmagic is unavailable but assists in filetype detection. Please consider installing libmagic for better results.\n",
      "libmagic is unavailable but assists in filetype detection. Please consider installing libmagic for better results.\n",
      "libmagic is unavailable but assists in filetype detection. Please consider installing libmagic for better results.\n",
      "libmagic is unavailable but assists in filetype detection. Please consider installing libmagic for better results.\n",
      "libmagic is unavailable but assists in filetype detection. Please consider installing libmagic for better results.\n",
      "libmagic is unavailable but assists in filetype detection. Please consider installing libmagic for better results.\n"
     ]
    }
   ],
   "source": [
    "from langchain_community.document_loaders import DirectoryLoader\n",
    "\n",
    "path = \"dummy_data\"\n",
    "loader = DirectoryLoader(path, glob=\"**/*.md\")\n",
    "docs = loader.load()"
   ]
  },
  {
   "cell_type": "code",
   "execution_count": 2,
   "metadata": {},
   "outputs": [
    {
     "data": {
      "text/plain": [
       "KnowledgeGraph(nodes: 0, relationships: 0)"
      ]
     },
     "execution_count": 2,
     "metadata": {},
     "output_type": "execute_result"
    }
   ],
   "source": [
    "from ragas.testset.graph import KnowledgeGraph\n",
    "\n",
    "kg = KnowledgeGraph()\n",
    "kg"
   ]
  },
  {
   "cell_type": "code",
   "execution_count": 3,
   "metadata": {},
   "outputs": [
    {
     "data": {
      "text/plain": [
       "KnowledgeGraph(nodes: 8, relationships: 0)"
      ]
     },
     "execution_count": 3,
     "metadata": {},
     "output_type": "execute_result"
    }
   ],
   "source": [
    "from ragas.testset.graph import Node, NodeType\n",
    "\n",
    "for doc in docs:\n",
    "    kg.nodes.append(\n",
    "        Node(\n",
    "            type=NodeType.DOCUMENT,\n",
    "            properties={\"page_content\": doc.page_content, \"document_metadata\": doc.metadata}\n",
    "        )\n",
    "    )\n",
    "    \n",
    "kg"
   ]
  },
  {
   "cell_type": "code",
   "execution_count": 4,
   "metadata": {},
   "outputs": [],
   "source": [
    "from ragas.llms import LangchainLLMWrapper\n",
    "from ragas.embeddings import LangchainEmbeddingsWrapper\n",
    "from langchain_openai import ChatOpenAI\n",
    "from langchain_openai import OpenAIEmbeddings\n",
    "\n",
    "generator_llm = LangchainLLMWrapper(ChatOpenAI(model=\"gpt-4o-mini\"))\n",
    "generator_embedding = LangchainEmbeddingsWrapper(OpenAIEmbeddings())"
   ]
  },
  {
   "cell_type": "code",
   "execution_count": 5,
   "metadata": {},
   "outputs": [
    {
     "data": {
      "application/vnd.jupyter.widget-view+json": {
       "model_id": "7eb1a74829964ab29a366051d98bcf75",
       "version_major": 2,
       "version_minor": 0
      },
      "text/plain": [
       "Applying HeadlinesExtractor:   0%|          | 0/8 [00:00<?, ?it/s]"
      ]
     },
     "metadata": {},
     "output_type": "display_data"
    },
    {
     "data": {
      "application/vnd.jupyter.widget-view+json": {
       "model_id": "a5f66cbac78d451f984371a608d30cf0",
       "version_major": 2,
       "version_minor": 0
      },
      "text/plain": [
       "Applying EmbeddingExtractor:   0%|          | 0/8 [00:00<?, ?it/s]"
      ]
     },
     "metadata": {},
     "output_type": "display_data"
    },
    {
     "data": {
      "application/vnd.jupyter.widget-view+json": {
       "model_id": "ba4ba3177b9842d29e011a67a5e9429d",
       "version_major": 2,
       "version_minor": 0
      },
      "text/plain": [
       "Applying HeadlineSplitter:   0%|          | 0/8 [00:00<?, ?it/s]"
      ]
     },
     "metadata": {},
     "output_type": "display_data"
    }
   ],
   "source": [
    "from ragas.testset.transforms import apply_transforms\n",
    "from ragas.testset.transforms import HeadlinesExtractor, HeadlineSplitter, EmbeddingExtractor, CosineSimilarityBuilder\n",
    "\n",
    "headline_extractor = HeadlinesExtractor(llm=generator_llm, max_num=20)\n",
    "embedding_extractor = EmbeddingExtractor()\n",
    "headline_splitter = HeadlineSplitter(min_tokens=300, max_tokens=1000)\n",
    "\n",
    "transforms = [\n",
    "    headline_extractor,\n",
    "    embedding_extractor,\n",
    "    headline_splitter,\n",
    "]\n",
    "\n",
    "apply_transforms(kg, transforms=transforms)"
   ]
  },
  {
   "cell_type": "code",
   "execution_count": 6,
   "metadata": {},
   "outputs": [
    {
     "data": {
      "text/plain": [
       "KnowledgeGraph(nodes: 25, relationships: 26)"
      ]
     },
     "execution_count": 6,
     "metadata": {},
     "output_type": "execute_result"
    }
   ],
   "source": [
    "kg"
   ]
  },
  {
   "cell_type": "code",
   "execution_count": 7,
   "metadata": {},
   "outputs": [
    {
     "data": {
      "text/plain": [
       "[Node(id: 447c81, type: NodeType.DOCUMENT, properties: ['page_content', 'document_metadata', 'headlines', 'embedding']),\n",
       " Node(id: be5162, type: NodeType.DOCUMENT, properties: ['page_content', 'document_metadata', 'headlines', 'embedding']),\n",
       " Node(id: 3272d9, type: NodeType.DOCUMENT, properties: ['page_content', 'document_metadata', 'headlines', 'embedding']),\n",
       " Node(id: 002062, type: NodeType.DOCUMENT, properties: ['page_content', 'document_metadata', 'headlines', 'embedding']),\n",
       " Node(id: 494ba4, type: NodeType.DOCUMENT, properties: ['page_content', 'document_metadata', 'headlines', 'embedding']),\n",
       " Node(id: 179054, type: NodeType.DOCUMENT, properties: ['page_content', 'document_metadata', 'headlines', 'embedding']),\n",
       " Node(id: c233a2, type: NodeType.DOCUMENT, properties: ['page_content', 'document_metadata', 'headlines', 'embedding']),\n",
       " Node(id: b79240, type: NodeType.DOCUMENT, properties: ['page_content', 'document_metadata', 'headlines', 'embedding']),\n",
       " Node(id: d4b0c0, type: NodeType.CHUNK, properties: ['page_content']),\n",
       " Node(id: b695aa, type: NodeType.CHUNK, properties: ['page_content']),\n",
       " Node(id: 0571ee, type: NodeType.CHUNK, properties: ['page_content']),\n",
       " Node(id: 852fd5, type: NodeType.CHUNK, properties: ['page_content']),\n",
       " Node(id: 3c80c7, type: NodeType.CHUNK, properties: ['page_content']),\n",
       " Node(id: 468d97, type: NodeType.CHUNK, properties: ['page_content']),\n",
       " Node(id: eb5791, type: NodeType.CHUNK, properties: ['page_content']),\n",
       " Node(id: 22611f, type: NodeType.CHUNK, properties: ['page_content']),\n",
       " Node(id: 71d307, type: NodeType.CHUNK, properties: ['page_content']),\n",
       " Node(id: bc5912, type: NodeType.CHUNK, properties: ['page_content']),\n",
       " Node(id: fd36dc, type: NodeType.CHUNK, properties: ['page_content']),\n",
       " Node(id: 4f9a42, type: NodeType.CHUNK, properties: ['page_content']),\n",
       " Node(id: cb3fe6, type: NodeType.CHUNK, properties: ['page_content']),\n",
       " Node(id: 369791, type: NodeType.CHUNK, properties: ['page_content']),\n",
       " Node(id: 5e3a8b, type: NodeType.CHUNK, properties: ['page_content']),\n",
       " Node(id: 8a4f82, type: NodeType.CHUNK, properties: ['page_content']),\n",
       " Node(id: c4b3a5, type: NodeType.CHUNK, properties: ['page_content'])]"
      ]
     },
     "execution_count": 7,
     "metadata": {},
     "output_type": "execute_result"
    }
   ],
   "source": [
    "kg.nodes"
   ]
  },
  {
   "cell_type": "code",
   "execution_count": 8,
   "metadata": {},
   "outputs": [],
   "source": [
    "for i in kg.nodes:\n",
    "    if i.type != NodeType.DOCUMENT:\n",
    "        property_name, embedding = await embedding_extractor.extract(i)\n",
    "        i.properties[property_name] = embedding"
   ]
  },
  {
   "cell_type": "code",
   "execution_count": 9,
   "metadata": {},
   "outputs": [
    {
     "data": {
      "text/plain": [
       "[Node(id: 447c81, type: NodeType.DOCUMENT, properties: ['page_content', 'document_metadata', 'headlines', 'embedding']),\n",
       " Node(id: be5162, type: NodeType.DOCUMENT, properties: ['page_content', 'document_metadata', 'headlines', 'embedding']),\n",
       " Node(id: 3272d9, type: NodeType.DOCUMENT, properties: ['page_content', 'document_metadata', 'headlines', 'embedding']),\n",
       " Node(id: 002062, type: NodeType.DOCUMENT, properties: ['page_content', 'document_metadata', 'headlines', 'embedding']),\n",
       " Node(id: 494ba4, type: NodeType.DOCUMENT, properties: ['page_content', 'document_metadata', 'headlines', 'embedding']),\n",
       " Node(id: 179054, type: NodeType.DOCUMENT, properties: ['page_content', 'document_metadata', 'headlines', 'embedding']),\n",
       " Node(id: c233a2, type: NodeType.DOCUMENT, properties: ['page_content', 'document_metadata', 'headlines', 'embedding']),\n",
       " Node(id: b79240, type: NodeType.DOCUMENT, properties: ['page_content', 'document_metadata', 'headlines', 'embedding']),\n",
       " Node(id: d4b0c0, type: NodeType.CHUNK, properties: ['page_content', 'embedding']),\n",
       " Node(id: b695aa, type: NodeType.CHUNK, properties: ['page_content', 'embedding']),\n",
       " Node(id: 0571ee, type: NodeType.CHUNK, properties: ['page_content', 'embedding']),\n",
       " Node(id: 852fd5, type: NodeType.CHUNK, properties: ['page_content', 'embedding']),\n",
       " Node(id: 3c80c7, type: NodeType.CHUNK, properties: ['page_content', 'embedding']),\n",
       " Node(id: 468d97, type: NodeType.CHUNK, properties: ['page_content', 'embedding']),\n",
       " Node(id: eb5791, type: NodeType.CHUNK, properties: ['page_content', 'embedding']),\n",
       " Node(id: 22611f, type: NodeType.CHUNK, properties: ['page_content', 'embedding']),\n",
       " Node(id: 71d307, type: NodeType.CHUNK, properties: ['page_content', 'embedding']),\n",
       " Node(id: bc5912, type: NodeType.CHUNK, properties: ['page_content', 'embedding']),\n",
       " Node(id: fd36dc, type: NodeType.CHUNK, properties: ['page_content', 'embedding']),\n",
       " Node(id: 4f9a42, type: NodeType.CHUNK, properties: ['page_content', 'embedding']),\n",
       " Node(id: cb3fe6, type: NodeType.CHUNK, properties: ['page_content', 'embedding']),\n",
       " Node(id: 369791, type: NodeType.CHUNK, properties: ['page_content', 'embedding']),\n",
       " Node(id: 5e3a8b, type: NodeType.CHUNK, properties: ['page_content', 'embedding']),\n",
       " Node(id: 8a4f82, type: NodeType.CHUNK, properties: ['page_content', 'embedding']),\n",
       " Node(id: c4b3a5, type: NodeType.CHUNK, properties: ['page_content', 'embedding'])]"
      ]
     },
     "execution_count": 9,
     "metadata": {},
     "output_type": "execute_result"
    }
   ],
   "source": [
    "kg.nodes"
   ]
  },
  {
   "cell_type": "code",
   "execution_count": 10,
   "metadata": {},
   "outputs": [
    {
     "data": {
      "application/vnd.jupyter.widget-view+json": {
       "model_id": "ff4ca26118b44f2098d74bf51915ee7a",
       "version_major": 2,
       "version_minor": 0
      },
      "text/plain": [
       "Applying CosineSimilarityBuilder:   0%|          | 0/1 [00:00<?, ?it/s]"
      ]
     },
     "metadata": {},
     "output_type": "display_data"
    }
   ],
   "source": [
    "from ragas.testset.transforms import CosineSimilarityBuilder\n",
    "\n",
    "cosine_similarity_builder = CosineSimilarityBuilder()\n",
    "\n",
    "transforms = [\n",
    "    cosine_similarity_builder,\n",
    "]\n",
    "\n",
    "apply_transforms(kg, transforms=transforms)"
   ]
  },
  {
   "cell_type": "code",
   "execution_count": 11,
   "metadata": {},
   "outputs": [
    {
     "data": {
      "text/plain": [
       "KnowledgeGraph(nodes: 25, relationships: 92)"
      ]
     },
     "execution_count": 11,
     "metadata": {},
     "output_type": "execute_result"
    }
   ],
   "source": [
    "kg"
   ]
  },
  {
   "cell_type": "code",
   "execution_count": 12,
   "metadata": {},
   "outputs": [],
   "source": [
    "kg.save(\"transformed_kg.json\")"
   ]
  },
  {
   "cell_type": "code",
   "execution_count": 13,
   "metadata": {},
   "outputs": [],
   "source": [
    "from ragas.testset.synthesizers import QueryDistribution, MultiHopAbstractQuerySynthesizer, MultiHopSpecificQuerySynthesizer, SingleHopSpecificQuerySynthesizer\n",
    "\n",
    "query_distribution = [\n",
    "    (SingleHopSpecificQuerySynthesizer(llm=generator_llm),0.3),\n",
    "    (SingleHopSpecificQuerySynthesizer(llm=generator_llm),0.7)\n",
    "]"
   ]
  },
  {
   "cell_type": "code",
   "execution_count": 14,
   "metadata": {},
   "outputs": [
    {
     "data": {
      "text/plain": [
       "[Persona(name='First Time Flier', role_description='Is flying for the first time and may feel anxious. Needs clear guidance on flight procedures, safety protocols, and what to expect throughout the journey.'),\n",
       " Persona(name='Frequent Flier', role_description='Travels regularly and values efficiency and comfort. Interested in loyalty programs, express services, and a seamless travel experience.'),\n",
       " Persona(name='Angry Business Class Flier', role_description='Demands top-tier service and is easily irritated by any delays or issues. Expects immediate resolutions and is quick to express frustration if standards are not met.')]"
      ]
     },
     "execution_count": 14,
     "metadata": {},
     "output_type": "execute_result"
    }
   ],
   "source": [
    "from ragas.testset.persona import Persona\n",
    "\n",
    "persona_first_time_flier = Persona(\n",
    "    name=\"First Time Flier\",\n",
    "    role_description=\"Is flying for the first time and may feel anxious. Needs clear guidance on flight procedures, safety protocols, and what to expect throughout the journey.\",\n",
    ")\n",
    "\n",
    "persona_frequent_flier = Persona(\n",
    "    name=\"Frequent Flier\",\n",
    "    role_description=\"Travels regularly and values efficiency and comfort. Interested in loyalty programs, express services, and a seamless travel experience.\",\n",
    ")\n",
    "\n",
    "persona_angry_business_flier = Persona(\n",
    "    name=\"Angry Business Class Flier\",\n",
    "    role_description=\"Demands top-tier service and is easily irritated by any delays or issues. Expects immediate resolutions and is quick to express frustration if standards are not met.\",\n",
    ")\n",
    "\n",
    "personas = [persona_first_time_flier, persona_frequent_flier, persona_angry_business_flier]\n",
    "personas"
   ]
  },
  {
   "cell_type": "code",
   "execution_count": 15,
   "metadata": {},
   "outputs": [
    {
     "data": {
      "application/vnd.jupyter.widget-view+json": {
       "model_id": "b4beebc80ed4478a9fdaed1159757526",
       "version_major": 2,
       "version_minor": 0
      },
      "text/plain": [
       "Generating Scenarios:   0%|          | 0/2 [00:00<?, ?it/s]"
      ]
     },
     "metadata": {},
     "output_type": "display_data"
    },
    {
     "data": {
      "application/vnd.jupyter.widget-view+json": {
       "model_id": "0b91540ca71145c5ab8108fdd97b88da",
       "version_major": 2,
       "version_minor": 0
      },
      "text/plain": [
       "Generating Samples: 0it [00:00, ?it/s]"
      ]
     },
     "metadata": {},
     "output_type": "display_data"
    },
    {
     "data": {
      "text/html": [
       "<div>\n",
       "<style scoped>\n",
       "    .dataframe tbody tr th:only-of-type {\n",
       "        vertical-align: middle;\n",
       "    }\n",
       "\n",
       "    .dataframe tbody tr th {\n",
       "        vertical-align: top;\n",
       "    }\n",
       "\n",
       "    .dataframe thead th {\n",
       "        text-align: right;\n",
       "    }\n",
       "</style>\n",
       "<table border=\"1\" class=\"dataframe\">\n",
       "  <thead>\n",
       "    <tr style=\"text-align: right;\">\n",
       "      <th></th>\n",
       "    </tr>\n",
       "  </thead>\n",
       "  <tbody>\n",
       "  </tbody>\n",
       "</table>\n",
       "</div>"
      ],
      "text/plain": [
       "Empty DataFrame\n",
       "Columns: []\n",
       "Index: []"
      ]
     },
     "execution_count": 15,
     "metadata": {},
     "output_type": "execute_result"
    }
   ],
   "source": [
    "from ragas.testset import TestsetGenerator\n",
    "\n",
    "generator = TestsetGenerator(llm=generator_llm, embedding_model=generator_embedding, knowledge_graph=kg, persona_list=personas)\n",
    "\n",
    "with_debugging_logs=False\n",
    "testset = generator.generate(testset_size=10, query_distribution=query_distribution, )\n",
    "testset.to_pandas()"
   ]
  },
  {
   "cell_type": "code",
   "execution_count": 16,
   "metadata": {},
   "outputs": [
    {
     "data": {
      "text/plain": [
       "Testset(samples=[])"
      ]
     },
     "execution_count": 16,
     "metadata": {},
     "output_type": "execute_result"
    }
   ],
   "source": [
    "testset"
   ]
  },
  {
   "cell_type": "code",
   "execution_count": null,
   "metadata": {},
   "outputs": [],
   "source": []
  }
 ],
 "metadata": {
  "kernelspec": {
   "display_name": "ragas",
   "language": "python",
   "name": "python3"
  },
  "language_info": {
   "codemirror_mode": {
    "name": "ipython",
    "version": 3
   },
   "file_extension": ".py",
   "mimetype": "text/x-python",
   "name": "python",
   "nbconvert_exporter": "python",
   "pygments_lexer": "ipython3",
   "version": "3.11.9"
  }
 },
 "nbformat": 4,
 "nbformat_minor": 2
}

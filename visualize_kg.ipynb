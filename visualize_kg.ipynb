{
 "cells": [
  {
   "cell_type": "markdown",
   "metadata": {},
   "source": [
    "# Loading the Graph"
   ]
  },
  {
   "cell_type": "code",
   "execution_count": 1,
   "metadata": {},
   "outputs": [
    {
     "data": {
      "text/plain": [
       "KnowledgeGraph(nodes: 25, relationships: 92)"
      ]
     },
     "execution_count": 1,
     "metadata": {},
     "output_type": "execute_result"
    }
   ],
   "source": [
    "from ragas.testset.graph import KnowledgeGraph\n",
    "\n",
    "kg = KnowledgeGraph.load(\"transformed_kg.json\")\n",
    "kg"
   ]
  },
  {
   "cell_type": "markdown",
   "metadata": {},
   "source": [
    "# Visualizing uisng Neo4j\n",
    "\n",
    "No nodes getting added"
   ]
  },
  {
   "cell_type": "code",
   "execution_count": null,
   "metadata": {},
   "outputs": [],
   "source": [
    "from neo4j import GraphDatabase\n",
    "\n",
    "class Neo4jGraph:\n",
    "    def __init__(self, uri, user, password):\n",
    "        \"\"\"\n",
    "        Connects to the Neo4j database and creates necessary indexes.\n",
    "        \"\"\"\n",
    "        self.driver = GraphDatabase.driver(uri, auth=(user, password))\n",
    "        self.create_indexes()\n",
    "\n",
    "    def close(self):\n",
    "        \"\"\"\n",
    "        Closes the Neo4j session.\n",
    "        \"\"\"\n",
    "        self.driver.close()\n",
    "\n",
    "    def clear_graph(self):\n",
    "        \"\"\"\n",
    "        Clears all nodes and relationships in the Neo4j database.\n",
    "        \"\"\"\n",
    "        with self.driver.session() as session:\n",
    "            session.run(\"MATCH (n) DETACH DELETE n\")\n",
    "\n",
    "    def create_node(self, node):\n",
    "        \"\"\"\n",
    "        Creates a node in Neo4j with specified properties.\n",
    "        \"\"\"\n",
    "        with self.driver.session() as session:\n",
    "            # Ensure only the desired properties are set for 'Code' nodes\n",
    "            if node.type.value == \"Code\":\n",
    "                props = {\n",
    "                    \"id\": str(node.id),\n",
    "                    \"page_content\": node.properties.get(\"page_content\", \"\"),\n",
    "                    \"headlines\": node.properties.get(\"headlines\", \"\")\n",
    "                }\n",
    "                query = (\n",
    "                    f\"CREATE (n:{node.type.value} {{ \"\n",
    "                    f\"id: $id, \"\n",
    "                    f\"page_content: $page_content, \"\n",
    "                    f\"headlines: $headlines \"\n",
    "                    f\"}})\"\n",
    "                )\n",
    "                session.run(query, **props)\n",
    "            else:\n",
    "                # Handle other node types if necessary\n",
    "                pass\n",
    "\n",
    "    def create_relationship(self, relationship):\n",
    "        \"\"\"\n",
    "        Creates a relationship between two nodes in Neo4j with properties.\n",
    "        If the relationship is bidirectional, two directed relationships are created.\n",
    "        \"\"\"\n",
    "        with self.driver.session() as session:\n",
    "            props = {\n",
    "                \"source_id\": str(relationship.source.id),\n",
    "                \"target_id\": str(relationship.target.id),\n",
    "                \"bidirectional\": relationship.bidirectional\n",
    "            }\n",
    "\n",
    "            # Construct property string dynamically\n",
    "            props_str = \", \".join(f\"{k}: ${k}\" for k in relationship.properties.keys())\n",
    "            rel_props = f\"{{ {props_str} }}\" if props_str else \"\"\n",
    "\n",
    "            if relationship.bidirectional:\n",
    "                # Create two directed relationships to simulate bidirectionality\n",
    "                query = (\n",
    "                    f\"MATCH (a {{id: $source_id}}), (b {{id: $target_id}}) \"\n",
    "                    f\"CREATE (a)-[r:{relationship.type} {rel_props}]->(b), \"\n",
    "                    f\"(b)-[r2:{relationship.type} {rel_props}]->(a)\"\n",
    "                )\n",
    "            else:\n",
    "                # Create a single directed relationship\n",
    "                query = (\n",
    "                    f\"MATCH (a {{id: $source_id}}), (b {{id: $target_id}}) \"\n",
    "                    f\"CREATE (a)-[r:{relationship.type} {rel_props}]->(b)\"\n",
    "                )\n",
    "\n",
    "            session.run(query, source_id=props[\"source_id\"], target_id=props[\"target_id\"], **relationship.properties)\n",
    "\n",
    "    def upload_knowledge_graph(self, kg):\n",
    "        \"\"\"\n",
    "        Uploads the entire KnowledgeGraph (nodes and relationships) to Neo4j.\n",
    "        \"\"\"\n",
    "        self.clear_graph()  # Clear existing graph before uploading\n",
    "\n",
    "        print(\"Uploading nodes...\")\n",
    "        for node in kg.nodes:\n",
    "            self.create_node(node)\n",
    "\n",
    "        print(\"Uploading relationships...\")\n",
    "        for relationship in kg.relationships:\n",
    "            self.create_relationship(relationship)\n",
    "\n",
    "        print(\"Upload complete! Open Neo4j Browser to view the graph.\")\n",
    "\n",
    "    def create_indexes(self):    \n",
    "        \"\"\"\n",
    "        Creates indexes on frequently queried node properties to improve query performance.\n",
    "        \"\"\"\n",
    "        with self.driver.session() as session:\n",
    "            session.run(\"CREATE INDEX IF NOT EXISTS FOR (n:Code) ON (n.id)\")\n",
    "\n",
    "            # If needed, add an index for other node types\n",
    "            session.run(\"CREATE INDEX IF NOT EXISTS FOR (n:Code) ON (n.page_content)\")\n",
    "            session.run(\"CREATE INDEX IF NOT EXISTS FOR (n:Code) ON (n.headlines)\")\n",
    "            print(\"Indexes created successfully.\")\n"
   ]
  },
  {
   "cell_type": "code",
   "execution_count": null,
   "metadata": {},
   "outputs": [],
   "source": [
    "URI = \"\"\n",
    "neo4j_user = \"neo4j\"\n",
    "neo4j_password = \"\"\n",
    "AUTH = (neo4j_user, neo4j_password)"
   ]
  },
  {
   "cell_type": "code",
   "execution_count": null,
   "metadata": {},
   "outputs": [],
   "source": [
    "from neo4j import GraphDatabase\n",
    "\n",
    "with GraphDatabase.driver(URI, auth=AUTH) as driver:\n",
    "    driver.verify_connectivity()"
   ]
  },
  {
   "cell_type": "code",
   "execution_count": null,
   "metadata": {},
   "outputs": [],
   "source": [
    "neo4j_graph = Neo4jGraph(neo4j_uri, neo4j_user, neo4j_password)\n",
    "neo4j_graph.upload_knowledge_graph(kg)\n",
    "neo4j_graph.close()"
   ]
  },
  {
   "cell_type": "markdown",
   "metadata": {},
   "source": [
    "# Visualizing using Pyvis"
   ]
  },
  {
   "cell_type": "code",
   "execution_count": 2,
   "metadata": {},
   "outputs": [],
   "source": [
    "from pyvis.network import Network\n",
    "net = Network()"
   ]
  },
  {
   "cell_type": "code",
   "execution_count": null,
   "metadata": {},
   "outputs": [],
   "source": [
    "for i in kg.nodes:\n",
    "\tlabel = str(i.id)\n",
    "\ttitle = i.properties.get(\"page_content\")\n",
    "\tif i.type == \"document\":\n",
    "\t\tsource = i.properties.get(\"document_metadata\").get(\"source\")[11:-3]\n",
    "\t\tlabel  += f\"document:{source}\"\n",
    "\tnet.add_node(n_id= str(i.id),label=label, title=title)"
   ]
  },
  {
   "cell_type": "code",
   "execution_count": 4,
   "metadata": {},
   "outputs": [],
   "source": [
    "for i in kg.relationships:\n",
    "\tsource = str(i.source.id)\n",
    "\ttarget = str(i.target.id)\n",
    "\trel = i.type\n",
    "\tlabel=i.type, \n",
    "\tnet.add_edge(source=source,to=target, title=rel, label=label, arrows='to')"
   ]
  },
  {
   "cell_type": "code",
   "execution_count": 5,
   "metadata": {},
   "outputs": [
    {
     "name": "stdout",
     "output_type": "stream",
     "text": [
      "/var/folders/n7/chh0c4z50hq_7kc4xkf5b5fw0000gn/T/tmpfnfuzh_o.html\n"
     ]
    },
    {
     "data": {
      "text/plain": [
       "True"
      ]
     },
     "execution_count": 5,
     "metadata": {},
     "output_type": "execute_result"
    }
   ],
   "source": [
    "import webbrowser\n",
    "import tempfile\n",
    "\n",
    "temp_file = tempfile.NamedTemporaryFile(delete=False, suffix=\".html\")\n",
    "net.show(temp_file.name, notebook=False)\n",
    "webbrowser.open(temp_file.name)"
   ]
  },
  {
   "cell_type": "code",
   "execution_count": null,
   "metadata": {},
   "outputs": [],
   "source": []
  }
 ],
 "metadata": {
  "kernelspec": {
   "display_name": "ragas",
   "language": "python",
   "name": "python3"
  },
  "language_info": {
   "codemirror_mode": {
    "name": "ipython",
    "version": 3
   },
   "file_extension": ".py",
   "mimetype": "text/x-python",
   "name": "python",
   "nbconvert_exporter": "python",
   "pygments_lexer": "ipython3",
   "version": "3.11.9"
  }
 },
 "nbformat": 4,
 "nbformat_minor": 2
}
